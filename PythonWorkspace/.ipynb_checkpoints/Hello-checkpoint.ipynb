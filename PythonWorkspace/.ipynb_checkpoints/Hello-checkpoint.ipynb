{
 "cells": [
  {
   "cell_type": "code",
   "execution_count": 1,
   "id": "1f19256c-ff60-48f8-83eb-9a4650755515",
   "metadata": {},
   "outputs": [
    {
     "name": "stdout",
     "output_type": "stream",
     "text": [
      "hello world\n"
     ]
    }
   ],
   "source": [
    "print(\"hello world\")"
   ]
  },
  {
   "cell_type": "code",
   "execution_count": 13,
   "id": "854450e1-32f9-469e-87d9-f94c099a95a5",
   "metadata": {},
   "outputs": [
    {
     "name": "stdout",
     "output_type": "stream",
     "text": [
      "하늘이 사랑이 초코는 살좀빼\n"
     ]
    }
   ],
   "source": [
    "print(\"하늘이 사랑이 초코는 살좀빼\")"
   ]
  },
  {
   "cell_type": "code",
   "execution_count": 7,
   "id": "3b6258c9-edc9-420e-900f-f83c00a267c5",
   "metadata": {},
   "outputs": [
    {
     "name": "stdout",
     "output_type": "stream",
     "text": [
      "7\n"
     ]
    }
   ],
   "source": [
    "a = 4\n",
    "b = 3\n",
    "c = a+b\n",
    "print(c)"
   ]
  },
  {
   "cell_type": "markdown",
   "id": "95fa7065-4f00-4cb3-b80a-8233a2c05a5f",
   "metadata": {},
   "source": [
    "# 1. 마크다운 문서\n",
    "## 마크업\n",
    "afafa"
   ]
  },
  {
   "cell_type": "code",
   "execution_count": 8,
   "id": "11efcd69-2b3f-45fa-ac8b-e68abf6d5a62",
   "metadata": {},
   "outputs": [
    {
     "name": "stdout",
     "output_type": "stream",
     "text": [
      "hello Python\n"
     ]
    }
   ],
   "source": [
    "print(\"hello Python\")"
   ]
  }
 ],
 "metadata": {
  "kernelspec": {
   "display_name": "Python [conda env:base] *",
   "language": "python",
   "name": "conda-base-py"
  },
  "language_info": {
   "codemirror_mode": {
    "name": "ipython",
    "version": 3
   },
   "file_extension": ".py",
   "mimetype": "text/x-python",
   "name": "python",
   "nbconvert_exporter": "python",
   "pygments_lexer": "ipython3",
   "version": "3.13.5"
  }
 },
 "nbformat": 4,
 "nbformat_minor": 5
}
